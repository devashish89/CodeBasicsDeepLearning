{
 "cells": [
  {
   "cell_type": "code",
   "execution_count": 1,
   "metadata": {},
   "outputs": [],
   "source": [
    "import tensorflow as tf\n",
    "from tensorflow import keras\n",
    "import pandas as pd\n",
    "import numpy as np\n",
    "import matplotlib.pyplot as plt"
   ]
  },
  {
   "cell_type": "code",
   "execution_count": 2,
   "metadata": {},
   "outputs": [
    {
     "data": {
      "text/plain": [
       "[PhysicalDevice(name='/physical_device:CPU:0', device_type='CPU'),\n",
       " PhysicalDevice(name='/physical_device:XLA_CPU:0', device_type='XLA_CPU'),\n",
       " PhysicalDevice(name='/physical_device:XLA_GPU:0', device_type='XLA_GPU')]"
      ]
     },
     "execution_count": 2,
     "metadata": {},
     "output_type": "execute_result"
    }
   ],
   "source": [
    "tf.config.experimental.list_physical_devices()"
   ]
  },
  {
   "cell_type": "code",
   "execution_count": 3,
   "metadata": {},
   "outputs": [
    {
     "data": {
      "text/plain": [
       "True"
      ]
     },
     "execution_count": 3,
     "metadata": {},
     "output_type": "execute_result"
    }
   ],
   "source": [
    "tf.test.is_built_with_cuda()"
   ]
  },
  {
   "cell_type": "code",
   "execution_count": 4,
   "metadata": {},
   "outputs": [],
   "source": [
    "(X_train, y_train), (X_test, y_test)=tf.keras.datasets.cifar10.load_data()"
   ]
  },
  {
   "cell_type": "code",
   "execution_count": 5,
   "metadata": {},
   "outputs": [
    {
     "data": {
      "text/plain": [
       "(50000, 32, 32, 3)"
      ]
     },
     "execution_count": 5,
     "metadata": {},
     "output_type": "execute_result"
    }
   ],
   "source": [
    "X_train.shape"
   ]
  },
  {
   "cell_type": "code",
   "execution_count": 6,
   "metadata": {},
   "outputs": [
    {
     "data": {
      "text/plain": [
       "(10000, 32, 32, 3)"
      ]
     },
     "execution_count": 6,
     "metadata": {},
     "output_type": "execute_result"
    }
   ],
   "source": [
    "X_test.shape"
   ]
  },
  {
   "cell_type": "code",
   "execution_count": 7,
   "metadata": {},
   "outputs": [
    {
     "data": {
      "text/plain": [
       "<matplotlib.image.AxesImage at 0x18a4c8bfee0>"
      ]
     },
     "execution_count": 7,
     "metadata": {},
     "output_type": "execute_result"
    },
    {
     "data": {
      "image/png": "[encoded data removed]",
      "text/plain": [
       "<Figure size 360x72 with 1 Axes>"
      ]
     },
     "metadata": {
      "needs_background": "light"
     },
     "output_type": "display_data"
    }
   ],
   "source": [
    "plt.figure(figsize=(5,1))\n",
    "plt.imshow(X_train[1]) #truck"
   ]
  },
  {
   "cell_type": "code",
   "execution_count": 8,
   "metadata": {},
   "outputs": [
    {
     "data": {
      "text/plain": [
       "array([9], dtype=uint8)"
      ]
     },
     "execution_count": 8,
     "metadata": {},
     "output_type": "execute_result"
    }
   ],
   "source": [
    "y_train[1]"
   ]
  },
  {
   "cell_type": "code",
   "execution_count": 9,
   "metadata": {},
   "outputs": [],
   "source": [
    "classes = [\"airplane\",\"automobile\",\"bird\",\"cat\",\"deer\",\"dog\",\"frog\",\"horse\",\"ship\",\"truck\"]"
   ]
  },
  {
   "cell_type": "code",
   "execution_count": 10,
   "metadata": {},
   "outputs": [
    {
     "data": {
      "text/plain": [
       "'truck'"
      ]
     },
     "execution_count": 10,
     "metadata": {},
     "output_type": "execute_result"
    }
   ],
   "source": [
    "classes[y_train[1][0]]"
   ]
  },
  {
   "cell_type": "code",
   "execution_count": 11,
   "metadata": {},
   "outputs": [
    {
     "data": {
      "text/plain": [
       "(50000, 3072)"
      ]
     },
     "execution_count": 11,
     "metadata": {},
     "output_type": "execute_result"
    }
   ],
   "source": [
    "X_train_flatten=X_train.reshape(len(X_train),32*32*3)\n",
    "X_train_flatten.shape"
   ]
  },
  {
   "cell_type": "code",
   "execution_count": 12,
   "metadata": {},
   "outputs": [],
   "source": [
    "# Scaling\n",
    "\n",
    "X_train_scaled = X_train/255\n",
    "X_test_scaled = X_test/255"
   ]
  },
  {
   "cell_type": "code",
   "execution_count": 13,
   "metadata": {},
   "outputs": [
    {
     "data": {
      "text/plain": [
       "array([[0., 0., 0., ..., 0., 0., 0.],\n",
       "       [0., 0., 0., ..., 0., 0., 1.],\n",
       "       [0., 0., 0., ..., 0., 0., 1.],\n",
       "       ...,\n",
       "       [0., 0., 0., ..., 0., 0., 1.],\n",
       "       [0., 1., 0., ..., 0., 0., 0.],\n",
       "       [0., 1., 0., ..., 0., 0., 0.]], dtype=float32)"
      ]
     },
     "execution_count": 13,
     "metadata": {},
     "output_type": "execute_result"
    }
   ],
   "source": [
    "# One hot encoding of output\n",
    "\n",
    "y_train_encoded = keras.utils.to_categorical(y_train,num_classes=10,dtype='float32')\n",
    "y_train_encoded"
   ]
  },
  {
   "cell_type": "code",
   "execution_count": 14,
   "metadata": {},
   "outputs": [
    {
     "name": "stdout",
     "output_type": "stream",
     "text": [
      "Epoch 1/50\n",
      "1563/1563 [==============================] - 56s 36ms/step - loss: 1.8579 - accuracy: 0.3359\n",
      "Epoch 2/50\n",
      "1563/1563 [==============================] - 54s 34ms/step - loss: 1.6555 - accuracy: 0.4141\n",
      "Epoch 3/50\n",
      "1563/1563 [==============================] - 55s 35ms/step - loss: 1.5686 - accuracy: 0.4456\n",
      "Epoch 4/50\n",
      "1563/1563 [==============================] - 52s 34ms/step - loss: 1.5086 - accuracy: 0.4657\n",
      "Epoch 5/50\n",
      "1563/1563 [==============================] - 53s 34ms/step - loss: 1.4573 - accuracy: 0.4857\n",
      "Epoch 6/50\n",
      "1563/1563 [==============================] - 52s 33ms/step - loss: 1.4135 - accuracy: 0.5009\n",
      "Epoch 7/50\n",
      "1563/1563 [==============================] - 53s 34ms/step - loss: 1.3728 - accuracy: 0.5160\n",
      "Epoch 8/50\n",
      "1563/1563 [==============================] - 54s 34ms/step - loss: 1.3417 - accuracy: 0.5272\n",
      "Epoch 9/50\n",
      "1563/1563 [==============================] - 53s 34ms/step - loss: 1.3066 - accuracy: 0.5412\n",
      "Epoch 10/50\n",
      "1563/1563 [==============================] - 53s 34ms/step - loss: 1.2750 - accuracy: 0.5511\n",
      "Epoch 11/50\n",
      "1563/1563 [==============================] - 53s 34ms/step - loss: 1.2458 - accuracy: 0.5616\n",
      "Epoch 12/50\n",
      "1563/1563 [==============================] - 53s 34ms/step - loss: 1.2173 - accuracy: 0.5705\n",
      "Epoch 13/50\n",
      "1563/1563 [==============================] - 59s 38ms/step - loss: 1.1892 - accuracy: 0.5821\n",
      "Epoch 14/50\n",
      "1563/1563 [==============================] - 55s 35ms/step - loss: 1.1643 - accuracy: 0.5918\n",
      "Epoch 15/50\n",
      "1563/1563 [==============================] - 54s 34ms/step - loss: 1.1377 - accuracy: 0.5999\n",
      "Epoch 16/50\n",
      "1563/1563 [==============================] - 54s 35ms/step - loss: 1.1101 - accuracy: 0.6121\n",
      "Epoch 17/50\n",
      "1563/1563 [==============================] - 54s 35ms/step - loss: 1.0858 - accuracy: 0.6186\n",
      "Epoch 18/50\n",
      "1563/1563 [==============================] - 58s 37ms/step - loss: 1.0592 - accuracy: 0.6282\n",
      "Epoch 19/50\n",
      "1563/1563 [==============================] - 52s 33ms/step - loss: 1.0333 - accuracy: 0.6395\n",
      "Epoch 20/50\n",
      "1563/1563 [==============================] - 52s 33ms/step - loss: 1.0093 - accuracy: 0.6472\n",
      "Epoch 21/50\n",
      "1563/1563 [==============================] - 52s 33ms/step - loss: 0.9863 - accuracy: 0.6562\n",
      "Epoch 22/50\n",
      "1563/1563 [==============================] - 53s 34ms/step - loss: 0.9595 - accuracy: 0.6674\n",
      "Epoch 23/50\n",
      "1563/1563 [==============================] - 54s 34ms/step - loss: 0.9311 - accuracy: 0.6776\n",
      "Epoch 24/50\n",
      "1563/1563 [==============================] - 53s 34ms/step - loss: 0.9110 - accuracy: 0.6844\n",
      "Epoch 25/50\n",
      "1563/1563 [==============================] - 53s 34ms/step - loss: 0.8854 - accuracy: 0.6927\n",
      "Epoch 26/50\n",
      "1563/1563 [==============================] - 53s 34ms/step - loss: 0.8610 - accuracy: 0.7012\n",
      "Epoch 27/50\n",
      "1563/1563 [==============================] - 53s 34ms/step - loss: 0.8377 - accuracy: 0.7096\n",
      "Epoch 28/50\n",
      "1563/1563 [==============================] - 53s 34ms/step - loss: 0.8110 - accuracy: 0.7176\n",
      "Epoch 29/50\n",
      "1563/1563 [==============================] - 53s 34ms/step - loss: 0.7880 - accuracy: 0.7277\n",
      "Epoch 30/50\n",
      "1563/1563 [==============================] - 53s 34ms/step - loss: 0.7643 - accuracy: 0.7376\n",
      "Epoch 31/50\n",
      "1563/1563 [==============================] - 53s 34ms/step - loss: 0.7386 - accuracy: 0.7464\n",
      "Epoch 32/50\n",
      "1563/1563 [==============================] - 53s 34ms/step - loss: 0.7148 - accuracy: 0.7542\n",
      "Epoch 33/50\n",
      "1563/1563 [==============================] - 53s 34ms/step - loss: 0.6935 - accuracy: 0.7609\n",
      "Epoch 34/50\n",
      "1563/1563 [==============================] - 53s 34ms/step - loss: 0.6676 - accuracy: 0.7712\n",
      "Epoch 35/50\n",
      "1563/1563 [==============================] - 53s 34ms/step - loss: 0.6422 - accuracy: 0.7811\n",
      "Epoch 36/50\n",
      "1563/1563 [==============================] - 53s 34ms/step - loss: 0.6166 - accuracy: 0.7898\n",
      "Epoch 37/50\n",
      "1563/1563 [==============================] - 53s 34ms/step - loss: 0.5982 - accuracy: 0.7981\n",
      "Epoch 38/50\n",
      "1563/1563 [==============================] - 53s 34ms/step - loss: 0.5748 - accuracy: 0.8064\n",
      "Epoch 39/50\n",
      "1563/1563 [==============================] - 53s 34ms/step - loss: 0.5490 - accuracy: 0.8170\n",
      "Epoch 40/50\n",
      "1563/1563 [==============================] - 53s 34ms/step - loss: 0.5275 - accuracy: 0.8239\n",
      "Epoch 41/50\n",
      "1563/1563 [==============================] - 53s 34ms/step - loss: 0.5085 - accuracy: 0.8301\n",
      "Epoch 42/50\n",
      "1563/1563 [==============================] - 53s 34ms/step - loss: 0.4815 - accuracy: 0.8412\n",
      "Epoch 43/50\n",
      "1563/1563 [==============================] - 54s 35ms/step - loss: 0.4624 - accuracy: 0.8475\n",
      "Epoch 44/50\n",
      "1563/1563 [==============================] - 55s 35ms/step - loss: 0.4420 - accuracy: 0.8560\n",
      "Epoch 45/50\n",
      "1563/1563 [==============================] - 53s 34ms/step - loss: 0.4203 - accuracy: 0.8618\n",
      "Epoch 46/50\n",
      "1563/1563 [==============================] - 55s 35ms/step - loss: 0.4007 - accuracy: 0.8711\n",
      "Epoch 47/50\n",
      "1563/1563 [==============================] - 54s 34ms/step - loss: 0.3812 - accuracy: 0.8773\n",
      "Epoch 48/50\n",
      "1563/1563 [==============================] - 55s 35ms/step - loss: 0.3647 - accuracy: 0.8840\n",
      "Epoch 49/50\n",
      "1563/1563 [==============================] - 54s 34ms/step - loss: 0.3470 - accuracy: 0.8901\n",
      "Epoch 50/50\n",
      "1563/1563 [==============================] - 55s 35ms/step - loss: 0.3304 - accuracy: 0.8964\n"
     ]
    },
    {
     "data": {
      "text/plain": [
       "<tensorflow.python.keras.callbacks.History at 0x18abf3ffe50>"
      ]
     },
     "execution_count": 14,
     "metadata": {},
     "output_type": "execute_result"
    }
   ],
   "source": [
    "model = keras.Sequential([\n",
    "    keras.layers.Flatten(input_shape=(32,32,3)),\n",
    "    keras.layers.Dense(3000, activation=\"relu\"),\n",
    "    keras.layers.Dense(1000,activation=\"relu\"),\n",
    "    keras.layers.Dense(10,activation='sigmoid')\n",
    "])\n",
    "\n",
    "model.compile(optimizer=\"SGD\",loss=\"categorical_crossentropy\",metrics=[\"accuracy\"])#loss= categorical_crossentropy becoz we are using encoded y_train\n",
    "model.fit(X_train_scaled,y_train_encoded,epochs=50)"
   ]
  },
  {
   "cell_type": "code",
   "execution_count": 15,
   "metadata": {},
   "outputs": [],
   "source": [
    "# predict\n",
    "\n",
    "y_pred = model.predict(X_test_scaled)"
   ]
  },
  {
   "cell_type": "code",
   "execution_count": 16,
   "metadata": {},
   "outputs": [
    {
     "data": {
      "text/plain": [
       "array([3.6686370e-07, 3.2477783e-05, 5.3804645e-09, 2.1343827e-10,\n",
       "       5.0983961e-10, 4.9097520e-10, 8.0186153e-12, 1.8108476e-09,\n",
       "       9.0971589e-04, 4.6692193e-03], dtype=float32)"
      ]
     },
     "execution_count": 16,
     "metadata": {},
     "output_type": "execute_result"
    }
   ],
   "source": [
    "y_pred[1] #array of prob for each 10 classes"
   ]
  },
  {
   "cell_type": "code",
   "execution_count": 17,
   "metadata": {},
   "outputs": [
    {
     "data": {
      "text/plain": [
       "(9, array([8], dtype=uint8))"
      ]
     },
     "execution_count": 17,
     "metadata": {},
     "output_type": "execute_result"
    }
   ],
   "source": [
    "np.argmax(y_pred[1]), y_test[1]"
   ]
  },
  {
   "cell_type": "code",
   "execution_count": 18,
   "metadata": {},
   "outputs": [
    {
     "data": {
      "text/plain": [
       "('truck', 'ship')"
      ]
     },
     "execution_count": 18,
     "metadata": {},
     "output_type": "execute_result"
    }
   ],
   "source": [
    "classes[np.argmax(y_pred[1])], classes[y_test[1][0]] #correct prediction"
   ]
  },
  {
   "cell_type": "code",
   "execution_count": 19,
   "metadata": {},
   "outputs": [
    {
     "name": "stdout",
     "output_type": "stream",
     "text": [
      "313/313 [==============================] - 4s 13ms/step - loss: 1.6961 - accuracy: 0.5455\n"
     ]
    },
    {
     "data": {
      "text/plain": [
       "[1.6960763931274414, 0.5454999804496765]"
      ]
     },
     "execution_count": 19,
     "metadata": {},
     "output_type": "execute_result"
    }
   ],
   "source": [
    "# evaluate model\n",
    "\n",
    "y_test_encoded = keras.utils.to_categorical(y_test,num_classes=10,dtype='float32')\n",
    "model.evaluate(X_test_scaled, y_test_encoded)"
   ]
  }
 ],
 "metadata": {
  "kernelspec": {
   "display_name": "Python 3",
   "language": "python",
   "name": "python3"
  },
  "language_info": {
   "codemirror_mode": {
    "name": "ipython",
    "version": 3
   },
   "file_extension": ".py",
   "mimetype": "text/x-python",
   "name": "python",
   "nbconvert_exporter": "python",
   "pygments_lexer": "ipython3",
   "version": "3.8.3"
  }
 },
 "nbformat": 4,
 "nbformat_minor": 4
}
