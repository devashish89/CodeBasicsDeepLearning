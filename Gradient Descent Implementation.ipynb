{
 "cells": [
  {
   "cell_type": "code",
   "execution_count": 92,
   "metadata": {},
   "outputs": [
    {
     "data": {
      "text/plain": [
       "(20, 3)"
      ]
     },
     "execution_count": 92,
     "metadata": {},
     "output_type": "execute_result"
    }
   ],
   "source": [
    "import numpy as np\n",
    "import pandas as pd\n",
    "import matplotlib.pyplot as plt\n",
    "from sklearn.preprocessing import MinMaxScaler\n",
    "\n",
    "df = pd.read_csv(\"HousePrices.csv\")\n",
    "df.shape"
   ]
  },
  {
   "cell_type": "code",
   "execution_count": null,
   "metadata": {},
   "outputs": [],
   "source": [
    "# Gradient Descent - total error for all records is calculated and then weights are adjusted\n",
    "# Stochastic Gradient Descent - error for sample record is calculated and then weights are adjusted\n",
    "# Gradient Descent - total error for some sample (10) records is calculated and then weights are adjusted"
   ]
  },
  {
   "cell_type": "code",
   "execution_count": 4,
   "metadata": {},
   "outputs": [
    {
     "name": "stdout",
     "output_type": "stream",
     "text": [
      "Index(['area', 'bedrooms', 'price'], dtype='object')\n"
     ]
    }
   ],
   "source": [
    "print(df.columns)"
   ]
  },
  {
   "cell_type": "code",
   "execution_count": 29,
   "metadata": {},
   "outputs": [
    {
     "data": {
      "text/html": [
       "<div>\n",
       "<style scoped>\n",
       "    .dataframe tbody tr th:only-of-type {\n",
       "        vertical-align: middle;\n",
       "    }\n",
       "\n",
       "    .dataframe tbody tr th {\n",
       "        vertical-align: top;\n",
       "    }\n",
       "\n",
       "    .dataframe thead th {\n",
       "        text-align: right;\n",
       "    }\n",
       "</style>\n",
       "<table border=\"1\" class=\"dataframe\">\n",
       "  <thead>\n",
       "    <tr style=\"text-align: right;\">\n",
       "      <th></th>\n",
       "      <th>area</th>\n",
       "      <th>bedrooms</th>\n",
       "      <th>price</th>\n",
       "    </tr>\n",
       "  </thead>\n",
       "  <tbody>\n",
       "    <tr>\n",
       "      <th>0</th>\n",
       "      <td>1056</td>\n",
       "      <td>2</td>\n",
       "      <td>39.07</td>\n",
       "    </tr>\n",
       "    <tr>\n",
       "      <th>1</th>\n",
       "      <td>2600</td>\n",
       "      <td>4</td>\n",
       "      <td>120.00</td>\n",
       "    </tr>\n",
       "    <tr>\n",
       "      <th>2</th>\n",
       "      <td>1440</td>\n",
       "      <td>3</td>\n",
       "      <td>62.00</td>\n",
       "    </tr>\n",
       "    <tr>\n",
       "      <th>3</th>\n",
       "      <td>1521</td>\n",
       "      <td>3</td>\n",
       "      <td>75.00</td>\n",
       "    </tr>\n",
       "    <tr>\n",
       "      <th>4</th>\n",
       "      <td>1200</td>\n",
       "      <td>2</td>\n",
       "      <td>51.00</td>\n",
       "    </tr>\n",
       "  </tbody>\n",
       "</table>\n",
       "</div>"
      ],
      "text/plain": [
       "   area  bedrooms   price\n",
       "0  1056         2   39.07\n",
       "1  2600         4  120.00\n",
       "2  1440         3   62.00\n",
       "3  1521         3   75.00\n",
       "4  1200         2   51.00"
      ]
     },
     "execution_count": 29,
     "metadata": {},
     "output_type": "execute_result"
    }
   ],
   "source": [
    "df.head()"
   ]
  },
  {
   "cell_type": "code",
   "execution_count": 10,
   "metadata": {},
   "outputs": [],
   "source": [
    "X = df[['area', 'bedrooms']]\n",
    "y = df['price']"
   ]
  },
  {
   "cell_type": "code",
   "execution_count": 25,
   "metadata": {},
   "outputs": [
    {
     "name": "stdout",
     "output_type": "stream",
     "text": [
      "<class 'pandas.core.series.Series'>\n",
      "<class 'numpy.ndarray'>\n",
      "[[ 39.07]\n",
      " [120.  ]\n",
      " [ 62.  ]\n",
      " [ 75.  ]\n",
      " [ 51.  ]\n",
      " [ 38.  ]\n",
      " [135.  ]\n",
      " [155.  ]\n",
      " [ 50.  ]\n",
      " [167.  ]\n",
      " [ 82.  ]\n",
      " [140.  ]\n",
      " [ 38.  ]\n",
      " [ 40.  ]\n",
      " [101.  ]\n",
      " [ 42.  ]\n",
      " [ 48.  ]\n",
      " [ 60.  ]\n",
      " [102.  ]\n",
      " [ 32.  ]]\n"
     ]
    }
   ],
   "source": [
    "print(type(y))\n",
    "print(type(y.to_numpy()))\n",
    "print(y.to_numpy().reshape(-1,1))"
   ]
  },
  {
   "cell_type": "code",
   "execution_count": 28,
   "metadata": {},
   "outputs": [
    {
     "data": {
      "text/plain": [
       "(array([[0.08827586, 0.25      ],\n",
       "        [0.62068966, 0.75      ],\n",
       "        [0.22068966, 0.5       ],\n",
       "        [0.24862069, 0.5       ],\n",
       "        [0.13793103, 0.25      ],\n",
       "        [0.12758621, 0.25      ],\n",
       "        [0.6662069 , 0.75      ],\n",
       "        [0.86206897, 0.75      ],\n",
       "        [0.17586207, 0.5       ],\n",
       "        [1.        , 1.        ],\n",
       "        [0.34482759, 0.5       ],\n",
       "        [0.68448276, 0.75      ],\n",
       "        [0.06896552, 0.25      ],\n",
       "        [0.10344828, 0.25      ],\n",
       "        [0.5       , 0.5       ],\n",
       "        [0.12931034, 0.25      ],\n",
       "        [0.13103448, 0.5       ],\n",
       "        [0.25517241, 0.5       ],\n",
       "        [0.67931034, 0.5       ],\n",
       "        [0.        , 0.        ]]),\n",
       " array([[0.05237037],\n",
       "        [0.65185185],\n",
       "        [0.22222222],\n",
       "        [0.31851852],\n",
       "        [0.14074074],\n",
       "        [0.04444444],\n",
       "        [0.76296296],\n",
       "        [0.91111111],\n",
       "        [0.13333333],\n",
       "        [1.        ],\n",
       "        [0.37037037],\n",
       "        [0.8       ],\n",
       "        [0.04444444],\n",
       "        [0.05925926],\n",
       "        [0.51111111],\n",
       "        [0.07407407],\n",
       "        [0.11851852],\n",
       "        [0.20740741],\n",
       "        [0.51851852],\n",
       "        [0.        ]]))"
      ]
     },
     "execution_count": 28,
     "metadata": {},
     "output_type": "execute_result"
    }
   ],
   "source": [
    "from sklearn.preprocessing import MinMaxScaler\n",
    "# Scaling\n",
    "\n",
    "sx = MinMaxScaler()\n",
    "sy = MinMaxScaler()\n",
    "\n",
    "X_scaled = sx.fit_transform(X)\n",
    "y_scaled = sy.fit_transform(y.to_numpy().reshape(-1,1))\n",
    "\n",
    "X_scaled, y_scaled"
   ]
  },
  {
   "cell_type": "code",
   "execution_count": 95,
   "metadata": {},
   "outputs": [
    {
     "name": "stdout",
     "output_type": "stream",
     "text": [
      "[[167.   99.5]]\n"
     ]
    }
   ],
   "source": [
    "print(sy.inverse_transform([[1,0.5]]))"
   ]
  },
  {
   "cell_type": "code",
   "execution_count": 35,
   "metadata": {},
   "outputs": [
    {
     "data": {
      "text/plain": [
       "array([1058., 2604., 1443., 1524., 1202., 1172., 2736., 3304., 1313.,\n",
       "       3705., 1803., 2789., 1002., 1102., 2253., 1177., 1183., 1543.,\n",
       "       2773.,  801.])"
      ]
     },
     "execution_count": 35,
     "metadata": {},
     "output_type": "execute_result"
    }
   ],
   "source": [
    "# equation y_pred=w1*area+w2*bedrooms+bias\n",
    "\n",
    "X_scaled.shape\n",
    "w = np.ones(shape=(2))\n",
    "np.dot(X,w)"
   ]
  },
  {
   "cell_type": "code",
   "execution_count": 90,
   "metadata": {},
   "outputs": [
    {
     "name": "stdout",
     "output_type": "stream",
     "text": [
      "[[12 42]\n",
      " [32 82]]\n",
      "========================\n",
      "[ 50 110]\n",
      "[-9.21034037  0.          0.69314718  2.30258509]\n"
     ]
    }
   ],
   "source": [
    "# concept check\n",
    "A = np.array([[1,2],[3,4]])\n",
    "B = np.array([10,20])\n",
    "\n",
    "print(A*B+2) # broadcast\n",
    "print(\"========================\")\n",
    "print(np.dot(A,B))\n",
    "print(np.log([0.0001,1,2,10]))"
   ]
  },
  {
   "cell_type": "code",
   "execution_count": 89,
   "metadata": {},
   "outputs": [
    {
     "name": "stdout",
     "output_type": "stream",
     "text": [
      "[[0.05237037]\n",
      " [0.65185185]\n",
      " [0.22222222]\n",
      " [0.31851852]\n",
      " [0.14074074]\n",
      " [0.04444444]\n",
      " [0.76296296]\n",
      " [0.91111111]\n",
      " [0.13333333]\n",
      " [1.        ]\n",
      " [0.37037037]\n",
      " [0.8       ]\n",
      " [0.04444444]\n",
      " [0.05925926]\n",
      " [0.51111111]\n",
      " [0.07407407]\n",
      " [0.11851852]\n",
      " [0.20740741]\n",
      " [0.51851852]\n",
      " [0.        ]]\n",
      "[0.05237037 0.65185185 0.22222222 0.31851852 0.14074074 0.04444444\n",
      " 0.76296296 0.91111111 0.13333333 1.         0.37037037 0.8\n",
      " 0.04444444 0.05925926 0.51111111 0.07407407 0.11851852 0.20740741\n",
      " 0.51851852 0.        ]\n"
     ]
    }
   ],
   "source": [
    "print(y_scaled) # 2D aaray\n",
    "print(y_scaled.flatten()) # 1D array"
   ]
  },
  {
   "cell_type": "code",
   "execution_count": 88,
   "metadata": {},
   "outputs": [
    {
     "data": {
      "text/plain": [
       "(array([0.70712464, 0.67456527]), -0.23034857438407427, 0.0068641890429808105)"
      ]
     },
     "execution_count": 88,
     "metadata": {},
     "output_type": "execute_result"
    }
   ],
   "source": [
    "def batch_gradient_descent(X,y_true, epochs, learning_rate):\n",
    "    total_samples = X.shape[0]\n",
    "    num_features = X.shape[1]\n",
    "    w = np.ones(shape=(num_features)) #initial weights\n",
    "    #print(w)\n",
    "    b=0 #bias\n",
    "    #print(y_true)\n",
    "    #print(y_true.shape)\n",
    "    cost_list = []\n",
    "    epoch_list = []\n",
    "    \n",
    "    for i in range(epochs):\n",
    "        y_pred = np.dot(X,w) + b\n",
    "        #print(y_pred)\n",
    "        #print(y_pred.shape)\n",
    "        \n",
    "        w_grad = -(2/total_samples)*(X.T.dot(y_true-y_pred))\n",
    "        b_grad = -(2/total_samples)*np.sum(y_true-y_pred)\n",
    "        #print(w_grad.shape)\n",
    "        w = w - learning_rate * w_grad\n",
    "        b = b - learning_rate * b_grad\n",
    "        \n",
    "        cost = np.mean(np.square(y_true-y_pred)) # MSE (Mean Squared Error)\n",
    "        \n",
    "        if i%10==0:\n",
    "            cost_list.append(cost)\n",
    "            epoch_list.append(i)\n",
    "        \n",
    "    return w, b, cost, cost_list, epoch_list\n",
    "\n",
    "w, b, cost, cost_list, epoch_list = batch_gradient_descent(X_scaled,y_scaled.flatten(),500,0.01)\n",
    "w, b, cost"
   ]
  },
  {
   "cell_type": "code",
   "execution_count": 93,
   "metadata": {},
   "outputs": [
    {
     "data": {
      "text/plain": [
       "[<matplotlib.lines.Line2D at 0x1c28b2a0dc0>]"
      ]
     },
     "execution_count": 93,
     "metadata": {},
     "output_type": "execute_result"
    },
    {
     "data": {
      "image/png": "[encoded data removed]",
      "text/plain": [
       "<Figure size 432x288 with 1 Axes>"
      ]
     },
     "metadata": {
      "needs_background": "light"
     },
     "output_type": "display_data"
    }
   ],
   "source": [
    "plt.xlabel(\"epoch\")\n",
    "plt.ylabel(\"cost\")\n",
    "plt.plot(epoch_list,cost_list)"
   ]
  },
  {
   "cell_type": "code",
   "execution_count": 154,
   "metadata": {},
   "outputs": [
    {
     "data": {
      "text/plain": [
       "(array([0.70712464, 0.67456527]), -0.23034857438407427)"
      ]
     },
     "execution_count": 154,
     "metadata": {},
     "output_type": "execute_result"
    }
   ],
   "source": [
    "w,b"
   ]
  },
  {
   "cell_type": "code",
   "execution_count": 158,
   "metadata": {},
   "outputs": [
    {
     "name": "stdout",
     "output_type": "stream",
     "text": [
      "[[128.45484403]] 120.0\n"
     ]
    }
   ],
   "source": [
    "def predict(X, w, b):\n",
    "    X_scaled=sx.transform(X)\n",
    "    y_scaled_pred = np.dot(X_scaled,w.T)+b\n",
    "    return sy.inverse_transform([y_scaled_pred])\n",
    "    \n",
    "y_pred = predict([[2600,4]],w,b)\n",
    "print(y_pred,y[1])"
   ]
  }
 ],
 "metadata": {
  "kernelspec": {
   "display_name": "Python 3",
   "language": "python",
   "name": "python3"
  },
  "language_info": {
   "codemirror_mode": {
    "name": "ipython",
    "version": 3
   },
   "file_extension": ".py",
   "mimetype": "text/x-python",
   "name": "python",
   "nbconvert_exporter": "python",
   "pygments_lexer": "ipython3",
   "version": "3.8.3"
  }
 },
 "nbformat": 4,
 "nbformat_minor": 4
}
