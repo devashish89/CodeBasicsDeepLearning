{
 "cells": [
  {
   "cell_type": "code",
   "execution_count": 1,
   "metadata": {},
   "outputs": [],
   "source": [
    "import pandas as pd\n",
    "import numpy as np\n",
    "import tensorflow as tf\n",
    "from tensorflow import keras\n",
    "import matplotlib.pyplot as plt\n",
    "import seaborn as sns"
   ]
  },
  {
   "cell_type": "code",
   "execution_count": 3,
   "metadata": {},
   "outputs": [
    {
     "data": {
      "text/plain": [
       "(208, 61)"
      ]
     },
     "execution_count": 3,
     "metadata": {},
     "output_type": "execute_result"
    }
   ],
   "source": [
    "df = pd.read_csv(\"sonar_data.csv\", header=None)\n",
    "df.shape"
   ]
  },
  {
   "cell_type": "code",
   "execution_count": 5,
   "metadata": {},
   "outputs": [
    {
     "data": {
      "text/html": [
       "<div>\n",
       "<style scoped>\n",
       "    .dataframe tbody tr th:only-of-type {\n",
       "        vertical-align: middle;\n",
       "    }\n",
       "\n",
       "    .dataframe tbody tr th {\n",
       "        vertical-align: top;\n",
       "    }\n",
       "\n",
       "    .dataframe thead th {\n",
       "        text-align: right;\n",
       "    }\n",
       "</style>\n",
       "<table border=\"1\" class=\"dataframe\">\n",
       "  <thead>\n",
       "    <tr style=\"text-align: right;\">\n",
       "      <th></th>\n",
       "      <th>0</th>\n",
       "      <th>1</th>\n",
       "      <th>2</th>\n",
       "      <th>3</th>\n",
       "      <th>4</th>\n",
       "      <th>5</th>\n",
       "      <th>6</th>\n",
       "      <th>7</th>\n",
       "      <th>8</th>\n",
       "      <th>9</th>\n",
       "      <th>...</th>\n",
       "      <th>51</th>\n",
       "      <th>52</th>\n",
       "      <th>53</th>\n",
       "      <th>54</th>\n",
       "      <th>55</th>\n",
       "      <th>56</th>\n",
       "      <th>57</th>\n",
       "      <th>58</th>\n",
       "      <th>59</th>\n",
       "      <th>60</th>\n",
       "    </tr>\n",
       "  </thead>\n",
       "  <tbody>\n",
       "    <tr>\n",
       "      <th>95</th>\n",
       "      <td>0.0291</td>\n",
       "      <td>0.0400</td>\n",
       "      <td>0.0771</td>\n",
       "      <td>0.0809</td>\n",
       "      <td>0.0521</td>\n",
       "      <td>0.1051</td>\n",
       "      <td>0.0145</td>\n",
       "      <td>0.0674</td>\n",
       "      <td>0.1294</td>\n",
       "      <td>0.1146</td>\n",
       "      <td>...</td>\n",
       "      <td>0.0056</td>\n",
       "      <td>0.0237</td>\n",
       "      <td>0.0204</td>\n",
       "      <td>0.0050</td>\n",
       "      <td>0.0137</td>\n",
       "      <td>0.0164</td>\n",
       "      <td>0.0081</td>\n",
       "      <td>0.0139</td>\n",
       "      <td>0.0111</td>\n",
       "      <td>R</td>\n",
       "    </tr>\n",
       "    <tr>\n",
       "      <th>35</th>\n",
       "      <td>0.0206</td>\n",
       "      <td>0.0132</td>\n",
       "      <td>0.0533</td>\n",
       "      <td>0.0569</td>\n",
       "      <td>0.0647</td>\n",
       "      <td>0.1432</td>\n",
       "      <td>0.1344</td>\n",
       "      <td>0.2041</td>\n",
       "      <td>0.1571</td>\n",
       "      <td>0.1573</td>\n",
       "      <td>...</td>\n",
       "      <td>0.0386</td>\n",
       "      <td>0.0147</td>\n",
       "      <td>0.0018</td>\n",
       "      <td>0.0100</td>\n",
       "      <td>0.0096</td>\n",
       "      <td>0.0077</td>\n",
       "      <td>0.0180</td>\n",
       "      <td>0.0109</td>\n",
       "      <td>0.0070</td>\n",
       "      <td>R</td>\n",
       "    </tr>\n",
       "    <tr>\n",
       "      <th>84</th>\n",
       "      <td>0.0378</td>\n",
       "      <td>0.0318</td>\n",
       "      <td>0.0423</td>\n",
       "      <td>0.0350</td>\n",
       "      <td>0.1787</td>\n",
       "      <td>0.1635</td>\n",
       "      <td>0.0887</td>\n",
       "      <td>0.0817</td>\n",
       "      <td>0.1779</td>\n",
       "      <td>0.2053</td>\n",
       "      <td>...</td>\n",
       "      <td>0.0046</td>\n",
       "      <td>0.0044</td>\n",
       "      <td>0.0078</td>\n",
       "      <td>0.0102</td>\n",
       "      <td>0.0065</td>\n",
       "      <td>0.0061</td>\n",
       "      <td>0.0062</td>\n",
       "      <td>0.0043</td>\n",
       "      <td>0.0053</td>\n",
       "      <td>R</td>\n",
       "    </tr>\n",
       "    <tr>\n",
       "      <th>46</th>\n",
       "      <td>0.0308</td>\n",
       "      <td>0.0339</td>\n",
       "      <td>0.0202</td>\n",
       "      <td>0.0889</td>\n",
       "      <td>0.1570</td>\n",
       "      <td>0.1750</td>\n",
       "      <td>0.0920</td>\n",
       "      <td>0.1353</td>\n",
       "      <td>0.1593</td>\n",
       "      <td>0.2795</td>\n",
       "      <td>...</td>\n",
       "      <td>0.0167</td>\n",
       "      <td>0.0127</td>\n",
       "      <td>0.0138</td>\n",
       "      <td>0.0090</td>\n",
       "      <td>0.0051</td>\n",
       "      <td>0.0029</td>\n",
       "      <td>0.0122</td>\n",
       "      <td>0.0056</td>\n",
       "      <td>0.0020</td>\n",
       "      <td>R</td>\n",
       "    </tr>\n",
       "    <tr>\n",
       "      <th>90</th>\n",
       "      <td>0.0126</td>\n",
       "      <td>0.0519</td>\n",
       "      <td>0.0621</td>\n",
       "      <td>0.0518</td>\n",
       "      <td>0.1072</td>\n",
       "      <td>0.2587</td>\n",
       "      <td>0.2304</td>\n",
       "      <td>0.2067</td>\n",
       "      <td>0.3416</td>\n",
       "      <td>0.4284</td>\n",
       "      <td>...</td>\n",
       "      <td>0.0208</td>\n",
       "      <td>0.0048</td>\n",
       "      <td>0.0199</td>\n",
       "      <td>0.0126</td>\n",
       "      <td>0.0022</td>\n",
       "      <td>0.0037</td>\n",
       "      <td>0.0034</td>\n",
       "      <td>0.0114</td>\n",
       "      <td>0.0077</td>\n",
       "      <td>R</td>\n",
       "    </tr>\n",
       "  </tbody>\n",
       "</table>\n",
       "<p>5 rows × 61 columns</p>\n",
       "</div>"
      ],
      "text/plain": [
       "        0       1       2       3       4       5       6       7       8   \\\n",
       "95  0.0291  0.0400  0.0771  0.0809  0.0521  0.1051  0.0145  0.0674  0.1294   \n",
       "35  0.0206  0.0132  0.0533  0.0569  0.0647  0.1432  0.1344  0.2041  0.1571   \n",
       "84  0.0378  0.0318  0.0423  0.0350  0.1787  0.1635  0.0887  0.0817  0.1779   \n",
       "46  0.0308  0.0339  0.0202  0.0889  0.1570  0.1750  0.0920  0.1353  0.1593   \n",
       "90  0.0126  0.0519  0.0621  0.0518  0.1072  0.2587  0.2304  0.2067  0.3416   \n",
       "\n",
       "        9   ...      51      52      53      54      55      56      57  \\\n",
       "95  0.1146  ...  0.0056  0.0237  0.0204  0.0050  0.0137  0.0164  0.0081   \n",
       "35  0.1573  ...  0.0386  0.0147  0.0018  0.0100  0.0096  0.0077  0.0180   \n",
       "84  0.2053  ...  0.0046  0.0044  0.0078  0.0102  0.0065  0.0061  0.0062   \n",
       "46  0.2795  ...  0.0167  0.0127  0.0138  0.0090  0.0051  0.0029  0.0122   \n",
       "90  0.4284  ...  0.0208  0.0048  0.0199  0.0126  0.0022  0.0037  0.0034   \n",
       "\n",
       "        58      59  60  \n",
       "95  0.0139  0.0111   R  \n",
       "35  0.0109  0.0070   R  \n",
       "84  0.0043  0.0053   R  \n",
       "46  0.0056  0.0020   R  \n",
       "90  0.0114  0.0077   R  \n",
       "\n",
       "[5 rows x 61 columns]"
      ]
     },
     "execution_count": 5,
     "metadata": {},
     "output_type": "execute_result"
    }
   ],
   "source": [
    "df.sample(5)"
   ]
  },
  {
   "cell_type": "code",
   "execution_count": 28,
   "metadata": {},
   "outputs": [
    {
     "data": {
      "text/plain": [
       "0     0\n",
       "1     0\n",
       "2     0\n",
       "3     0\n",
       "4     0\n",
       "     ..\n",
       "56    0\n",
       "57    0\n",
       "58    0\n",
       "59    0\n",
       "60    0\n",
       "Length: 61, dtype: int64"
      ]
     },
     "execution_count": 28,
     "metadata": {},
     "output_type": "execute_result"
    }
   ],
   "source": [
    "df.isna().sum()"
   ]
  },
  {
   "cell_type": "code",
   "execution_count": 29,
   "metadata": {},
   "outputs": [
    {
     "data": {
      "text/plain": [
       "M    111\n",
       "R     97\n",
       "Name: 60, dtype: int64"
      ]
     },
     "execution_count": 29,
     "metadata": {},
     "output_type": "execute_result"
    }
   ],
   "source": [
    "df[60].value_counts() #balanced dataset"
   ]
  },
  {
   "cell_type": "code",
   "execution_count": 31,
   "metadata": {},
   "outputs": [],
   "source": [
    "X= df.drop(60, axis=\"columns\")\n",
    "y = df[60]"
   ]
  },
  {
   "cell_type": "code",
   "execution_count": 32,
   "metadata": {},
   "outputs": [
    {
     "data": {
      "text/plain": [
       "(         0       1       2       3       4       5       6       7       8   \\\n",
       " 39   0.0091  0.0213  0.0206  0.0505  0.0657  0.0795  0.0970  0.0872  0.0743   \n",
       " 86   0.0188  0.0370  0.0953  0.0824  0.0249  0.0488  0.1424  0.1972  0.1873   \n",
       " 183  0.0096  0.0404  0.0682  0.0688  0.0887  0.0932  0.0955  0.2140  0.2546   \n",
       " 57   0.0216  0.0124  0.0174  0.0152  0.0608  0.1026  0.1139  0.0877  0.1160   \n",
       " \n",
       "          9   ...      50      51      52      53      54      55      56  \\\n",
       " 39   0.0837  ...  0.0300  0.0112  0.0112  0.0102  0.0026  0.0097  0.0098   \n",
       " 86   0.1806  ...  0.0143  0.0093  0.0033  0.0113  0.0030  0.0057  0.0090   \n",
       " 183  0.2952  ...  0.0310  0.0237  0.0078  0.0144  0.0170  0.0012  0.0109   \n",
       " 57   0.0866  ...  0.0018  0.0052  0.0049  0.0096  0.0134  0.0122  0.0047   \n",
       " \n",
       "          57      58      59  \n",
       " 39   0.0043  0.0071  0.0108  \n",
       " 86   0.0057  0.0068  0.0024  \n",
       " 183  0.0036  0.0043  0.0018  \n",
       " 57   0.0018  0.0006  0.0023  \n",
       " \n",
       " [4 rows x 60 columns],\n",
       " 137    M\n",
       " 32     R\n",
       " 89     R\n",
       " 173    M\n",
       " Name: 60, dtype: object)"
      ]
     },
     "execution_count": 32,
     "metadata": {},
     "output_type": "execute_result"
    }
   ],
   "source": [
    "X.sample(4), y.sample(4)"
   ]
  },
  {
   "cell_type": "code",
   "execution_count": 33,
   "metadata": {},
   "outputs": [
    {
     "data": {
      "text/plain": [
       "0    111\n",
       "1     97\n",
       "Name: 60, dtype: int64"
      ]
     },
     "execution_count": 33,
     "metadata": {},
     "output_type": "execute_result"
    }
   ],
   "source": [
    "y = y.replace({'M':0, 'R':1})\n",
    "y.value_counts()"
   ]
  },
  {
   "cell_type": "code",
   "execution_count": 34,
   "metadata": {},
   "outputs": [
    {
     "name": "stdout",
     "output_type": "stream",
     "text": [
      "166 42\n"
     ]
    }
   ],
   "source": [
    "from sklearn.model_selection import train_test_split\n",
    "X_train, X_test, y_train, y_test = train_test_split(X,y,test_size=0.2)\n",
    "print(len(X_train),len(X_test))"
   ]
  },
  {
   "cell_type": "code",
   "execution_count": 35,
   "metadata": {},
   "outputs": [
    {
     "data": {
      "text/plain": [
       "60"
      ]
     },
     "execution_count": 35,
     "metadata": {},
     "output_type": "execute_result"
    }
   ],
   "source": [
    "X_train.shape[1]"
   ]
  },
  {
   "cell_type": "code",
   "execution_count": 36,
   "metadata": {},
   "outputs": [],
   "source": [
    "model = keras.Sequential([\n",
    "    keras.layers.Dense(X_train.shape[1], input_shape=(X_train.shape[1],), activation='relu'),\n",
    "    keras.layers.Dense(120, activation='relu'),\n",
    "    keras.layers.Dense(60, activation='relu'),\n",
    "    keras.layers.Dense(1,activation='sigmoid')\n",
    "])"
   ]
  },
  {
   "cell_type": "code",
   "execution_count": 39,
   "metadata": {},
   "outputs": [
    {
     "name": "stdout",
     "output_type": "stream",
     "text": [
      "Epoch 1/10\n",
      "6/6 [==============================] - 0s 2ms/step - loss: 0.0038 - accuracy: 1.0000\n",
      "Epoch 2/10\n",
      "6/6 [==============================] - 0s 997us/step - loss: 0.0150 - accuracy: 0.9940\n",
      "Epoch 3/10\n",
      "6/6 [==============================] - 0s 997us/step - loss: 0.0032 - accuracy: 1.0000\n",
      "Epoch 4/10\n",
      "6/6 [==============================] - 0s 665us/step - loss: 0.0111 - accuracy: 0.9940\n",
      "Epoch 5/10\n",
      "6/6 [==============================] - 0s 998us/step - loss: 0.0068 - accuracy: 1.0000\n",
      "Epoch 6/10\n",
      "6/6 [==============================] - 0s 831us/step - loss: 0.0159 - accuracy: 0.9940\n",
      "Epoch 7/10\n",
      "6/6 [==============================] - 0s 2ms/step - loss: 0.0041 - accuracy: 1.0000\n",
      "Epoch 8/10\n",
      "6/6 [==============================] - 0s 1ms/step - loss: 0.0713 - accuracy: 0.9639\n",
      "Epoch 9/10\n",
      "6/6 [==============================] - 0s 1ms/step - loss: 0.0494 - accuracy: 0.9759\n",
      "Epoch 10/10\n",
      "6/6 [==============================] - 0s 1ms/step - loss: 5.9106e-04 - accuracy: 1.0000\n"
     ]
    },
    {
     "data": {
      "text/plain": [
       "<tensorflow.python.keras.callbacks.History at 0x17aa138a310>"
      ]
     },
     "execution_count": 39,
     "metadata": {},
     "output_type": "execute_result"
    }
   ],
   "source": [
    "model.compile(optimizer='adam',loss='binary_crossentropy',metrics=['accuracy'])\n",
    "model.fit(X_train, y_train, epochs=10)"
   ]
  },
  {
   "cell_type": "code",
   "execution_count": 40,
   "metadata": {},
   "outputs": [
    {
     "name": "stdout",
     "output_type": "stream",
     "text": [
      "2/2 [==============================] - 0s 499us/step - loss: 1.8631 - accuracy: 0.7619\n"
     ]
    },
    {
     "data": {
      "text/plain": [
       "[1.8630800247192383, 0.761904776096344]"
      ]
     },
     "execution_count": 40,
     "metadata": {},
     "output_type": "execute_result"
    }
   ],
   "source": [
    "model.evaluate(X_test,y_test) # train accuracy = 100% and test accuracy = 76% --- case of overfitting"
   ]
  },
  {
   "cell_type": "code",
   "execution_count": 42,
   "metadata": {},
   "outputs": [
    {
     "data": {
      "text/plain": [
       "array([[0],\n",
       "       [0],\n",
       "       [1],\n",
       "       [1],\n",
       "       [1],\n",
       "       [0],\n",
       "       [0],\n",
       "       [1],\n",
       "       [0],\n",
       "       [1],\n",
       "       [0],\n",
       "       [0],\n",
       "       [0],\n",
       "       [1],\n",
       "       [1],\n",
       "       [1],\n",
       "       [0],\n",
       "       [1],\n",
       "       [0],\n",
       "       [1],\n",
       "       [0],\n",
       "       [0],\n",
       "       [1],\n",
       "       [1],\n",
       "       [0],\n",
       "       [1],\n",
       "       [0],\n",
       "       [0],\n",
       "       [1],\n",
       "       [1],\n",
       "       [0],\n",
       "       [0],\n",
       "       [0],\n",
       "       [1],\n",
       "       [0],\n",
       "       [0],\n",
       "       [1],\n",
       "       [1],\n",
       "       [0],\n",
       "       [1],\n",
       "       [0],\n",
       "       [1]])"
      ]
     },
     "execution_count": 42,
     "metadata": {},
     "output_type": "execute_result"
    }
   ],
   "source": [
    "y_pred = model.predict(X_test)\n",
    "y_pred_conv = np.where(y_pred>=0.5,1,0)\n",
    "y_pred_conv"
   ]
  },
  {
   "cell_type": "code",
   "execution_count": 44,
   "metadata": {},
   "outputs": [
    {
     "name": "stdout",
     "output_type": "stream",
     "text": [
      "              precision    recall  f1-score   support\n",
      "\n",
      "           0       0.91      0.71      0.80        28\n",
      "           1       0.60      0.86      0.71        14\n",
      "\n",
      "    accuracy                           0.76        42\n",
      "   macro avg       0.75      0.79      0.75        42\n",
      "weighted avg       0.81      0.76      0.77        42\n",
      "\n",
      "0.7619047619047619\n"
     ]
    },
    {
     "data": {
      "image/png": "[encoded data removed]",
      "text/plain": [
       "<Figure size 720x720 with 2 Axes>"
      ]
     },
     "metadata": {
      "needs_background": "light"
     },
     "output_type": "display_data"
    }
   ],
   "source": [
    "from sklearn.metrics import confusion_matrix, f1_score, accuracy_score, classification_report\n",
    "cm = confusion_matrix(y_test,y_pred_conv)\n",
    "plt.figure(figsize=(10,10))\n",
    "sns.heatmap(cm,annot=True,cmap=\"YlGnBu\")\n",
    "plt.xlabel('Predicted')\n",
    "plt.ylabel('Truth')\n",
    "\n",
    "print(classification_report(y_test,y_pred_conv))\n",
    "print(accuracy_score(y_test,y_pred_conv))"
   ]
  },
  {
   "cell_type": "code",
   "execution_count": 53,
   "metadata": {},
   "outputs": [],
   "source": [
    "# Introducing dropout layers -- to reduce overfitting\n",
    "\n",
    "model1 = keras.Sequential([\n",
    "    keras.layers.Dense(X_train.shape[1], input_shape=(X_train.shape[1],), activation='relu'),\n",
    "    keras.layers.Dense(120, activation='relu'),\n",
    "    keras.layers.Dropout(0.5),\n",
    "    keras.layers.Dense(60, activation='relu'),\n",
    "    keras.layers.Dropout(0.2),\n",
    "    keras.layers.Dense(1,activation='sigmoid')\n",
    "])"
   ]
  },
  {
   "cell_type": "code",
   "execution_count": 54,
   "metadata": {},
   "outputs": [
    {
     "name": "stdout",
     "output_type": "stream",
     "text": [
      "Epoch 1/50\n",
      "6/6 [==============================] - 0s 1ms/step - loss: 0.6943 - accuracy: 0.5361\n",
      "Epoch 2/50\n",
      "6/6 [==============================] - 0s 1ms/step - loss: 0.6872 - accuracy: 0.5241\n",
      "Epoch 3/50\n",
      "6/6 [==============================] - 0s 997us/step - loss: 0.6853 - accuracy: 0.5602\n",
      "Epoch 4/50\n",
      "6/6 [==============================] - 0s 1ms/step - loss: 0.6841 - accuracy: 0.5723\n",
      "Epoch 5/50\n",
      "6/6 [==============================] - 0s 997us/step - loss: 0.6723 - accuracy: 0.5482\n",
      "Epoch 6/50\n",
      "6/6 [==============================] - 0s 1ms/step - loss: 0.6604 - accuracy: 0.6506\n",
      "Epoch 7/50\n",
      "6/6 [==============================] - 0s 997us/step - loss: 0.6462 - accuracy: 0.6807\n",
      "Epoch 8/50\n",
      "6/6 [==============================] - 0s 1ms/step - loss: 0.6652 - accuracy: 0.5904\n",
      "Epoch 9/50\n",
      "6/6 [==============================] - 0s 831us/step - loss: 0.6244 - accuracy: 0.7048\n",
      "Epoch 10/50\n",
      "6/6 [==============================] - 0s 831us/step - loss: 0.6099 - accuracy: 0.7349\n",
      "Epoch 11/50\n",
      "6/6 [==============================] - 0s 997us/step - loss: 0.5967 - accuracy: 0.7410\n",
      "Epoch 12/50\n",
      "6/6 [==============================] - 0s 997us/step - loss: 0.5662 - accuracy: 0.7470\n",
      "Epoch 13/50\n",
      "6/6 [==============================] - 0s 997us/step - loss: 0.5359 - accuracy: 0.7590\n",
      "Epoch 14/50\n",
      "6/6 [==============================] - 0s 831us/step - loss: 0.5080 - accuracy: 0.7771\n",
      "Epoch 15/50\n",
      "6/6 [==============================] - 0s 1ms/step - loss: 0.5260 - accuracy: 0.7590\n",
      "Epoch 16/50\n",
      "6/6 [==============================] - 0s 831us/step - loss: 0.4719 - accuracy: 0.7771\n",
      "Epoch 17/50\n",
      "6/6 [==============================] - 0s 1ms/step - loss: 0.4973 - accuracy: 0.7831\n",
      "Epoch 18/50\n",
      "6/6 [==============================] - 0s 831us/step - loss: 0.4306 - accuracy: 0.8012\n",
      "Epoch 19/50\n",
      "6/6 [==============================] - 0s 998us/step - loss: 0.4311 - accuracy: 0.8253\n",
      "Epoch 20/50\n",
      "6/6 [==============================] - 0s 831us/step - loss: 0.4240 - accuracy: 0.7771\n",
      "Epoch 21/50\n",
      "6/6 [==============================] - 0s 1ms/step - loss: 0.3837 - accuracy: 0.8735\n",
      "Epoch 22/50\n",
      "6/6 [==============================] - 0s 831us/step - loss: 0.3904 - accuracy: 0.8373\n",
      "Epoch 23/50\n",
      "6/6 [==============================] - 0s 997us/step - loss: 0.3935 - accuracy: 0.8133\n",
      "Epoch 24/50\n",
      "6/6 [==============================] - 0s 831us/step - loss: 0.3586 - accuracy: 0.8434\n",
      "Epoch 25/50\n",
      "6/6 [==============================] - 0s 997us/step - loss: 0.3537 - accuracy: 0.8614\n",
      "Epoch 26/50\n",
      "6/6 [==============================] - 0s 829us/step - loss: 0.3399 - accuracy: 0.8494\n",
      "Epoch 27/50\n",
      "6/6 [==============================] - 0s 1ms/step - loss: 0.3305 - accuracy: 0.8675\n",
      "Epoch 28/50\n",
      "6/6 [==============================] - 0s 998us/step - loss: 0.3234 - accuracy: 0.8193\n",
      "Epoch 29/50\n",
      "6/6 [==============================] - 0s 997us/step - loss: 0.3033 - accuracy: 0.8554\n",
      "Epoch 30/50\n",
      "6/6 [==============================] - 0s 997us/step - loss: 0.2856 - accuracy: 0.8795\n",
      "Epoch 31/50\n",
      "6/6 [==============================] - 0s 997us/step - loss: 0.3195 - accuracy: 0.8494\n",
      "Epoch 32/50\n",
      "6/6 [==============================] - 0s 1ms/step - loss: 0.2986 - accuracy: 0.8976\n",
      "Epoch 33/50\n",
      "6/6 [==============================] - 0s 831us/step - loss: 0.2612 - accuracy: 0.9157\n",
      "Epoch 34/50\n",
      "6/6 [==============================] - 0s 1ms/step - loss: 0.3027 - accuracy: 0.8675\n",
      "Epoch 35/50\n",
      "6/6 [==============================] - 0s 831us/step - loss: 0.2517 - accuracy: 0.9217\n",
      "Epoch 36/50\n",
      "6/6 [==============================] - 0s 1ms/step - loss: 0.2488 - accuracy: 0.8855\n",
      "Epoch 37/50\n",
      "6/6 [==============================] - 0s 1ms/step - loss: 0.3036 - accuracy: 0.8735\n",
      "Epoch 38/50\n",
      "6/6 [==============================] - 0s 1ms/step - loss: 0.2608 - accuracy: 0.8795\n",
      "Epoch 39/50\n",
      "6/6 [==============================] - 0s 998us/step - loss: 0.2456 - accuracy: 0.9096\n",
      "Epoch 40/50\n",
      "6/6 [==============================] - 0s 997us/step - loss: 0.2712 - accuracy: 0.8976\n",
      "Epoch 41/50\n",
      "6/6 [==============================] - 0s 997us/step - loss: 0.2333 - accuracy: 0.9157\n",
      "Epoch 42/50\n",
      "6/6 [==============================] - 0s 997us/step - loss: 0.2110 - accuracy: 0.9398\n",
      "Epoch 43/50\n",
      "6/6 [==============================] - 0s 998us/step - loss: 0.2577 - accuracy: 0.8795\n",
      "Epoch 44/50\n",
      "6/6 [==============================] - 0s 997us/step - loss: 0.1931 - accuracy: 0.9157\n",
      "Epoch 45/50\n",
      "6/6 [==============================] - 0s 1ms/step - loss: 0.2144 - accuracy: 0.9036\n",
      "Epoch 46/50\n",
      "6/6 [==============================] - 0s 831us/step - loss: 0.2060 - accuracy: 0.9277\n",
      "Epoch 47/50\n",
      "6/6 [==============================] - 0s 997us/step - loss: 0.1909 - accuracy: 0.9578\n",
      "Epoch 48/50\n",
      "6/6 [==============================] - 0s 831us/step - loss: 0.1691 - accuracy: 0.9699\n",
      "Epoch 49/50\n",
      "6/6 [==============================] - 0s 997us/step - loss: 0.1851 - accuracy: 0.9337\n",
      "Epoch 50/50\n",
      "6/6 [==============================] - 0s 832us/step - loss: 0.1413 - accuracy: 0.9578\n",
      "*****************************\n",
      "WARNING:tensorflow:5 out of the last 9 calls to <function Model.make_test_function.<locals>.test_function at 0x0000017AA7DA8550> triggered tf.function retracing. Tracing is expensive and the excessive number of tracings could be due to (1) creating @tf.function repeatedly in a loop, (2) passing tensors with different shapes, (3) passing Python objects instead of tensors. For (1), please define your @tf.function outside of the loop. For (2), @tf.function has experimental_relax_shapes=True option that relaxes argument shapes that can avoid unnecessary retracing. For (3), please refer to https://www.tensorflow.org/tutorials/customization/performance#python_or_tensor_args and https://www.tensorflow.org/api_docs/python/tf/function for  more details.\n",
      "2/2 [==============================] - 0s 499us/step - loss: 0.5466 - accuracy: 0.8095\n"
     ]
    },
    {
     "data": {
      "text/plain": [
       "[0.5466307997703552, 0.8095238208770752]"
      ]
     },
     "execution_count": 54,
     "metadata": {},
     "output_type": "execute_result"
    }
   ],
   "source": [
    "model1.compile(optimizer='adam',loss='binary_crossentropy',metrics=['accuracy'])\n",
    "model1.fit(X_train,y_train,epochs=50)\n",
    "print(\"*****************************\")\n",
    "model1.evaluate(X_test,y_test)"
   ]
  },
  {
   "cell_type": "code",
   "execution_count": 57,
   "metadata": {},
   "outputs": [
    {
     "data": {
      "text/plain": [
       "array([[0],\n",
       "       [0],\n",
       "       [1],\n",
       "       [1],\n",
       "       [1],\n",
       "       [0],\n",
       "       [0],\n",
       "       [0],\n",
       "       [0],\n",
       "       [1],\n",
       "       [0],\n",
       "       [0],\n",
       "       [1],\n",
       "       [1],\n",
       "       [1],\n",
       "       [1],\n",
       "       [0],\n",
       "       [1],\n",
       "       [0],\n",
       "       [1],\n",
       "       [0],\n",
       "       [0],\n",
       "       [1],\n",
       "       [0],\n",
       "       [0],\n",
       "       [1],\n",
       "       [0],\n",
       "       [0],\n",
       "       [1],\n",
       "       [0],\n",
       "       [0],\n",
       "       [0],\n",
       "       [0],\n",
       "       [1],\n",
       "       [0],\n",
       "       [0],\n",
       "       [1],\n",
       "       [0],\n",
       "       [0],\n",
       "       [0],\n",
       "       [0],\n",
       "       [1]])"
      ]
     },
     "execution_count": 57,
     "metadata": {},
     "output_type": "execute_result"
    }
   ],
   "source": [
    "y_pred = model1.predict(X_test)\n",
    "y_pred_conv = np.where(y_pred>=0.5,1,0)\n",
    "y_pred_conv"
   ]
  },
  {
   "cell_type": "code",
   "execution_count": 58,
   "metadata": {},
   "outputs": [
    {
     "name": "stdout",
     "output_type": "stream",
     "text": [
      "              precision    recall  f1-score   support\n",
      "\n",
      "           0       0.88      0.82      0.85        28\n",
      "           1       0.69      0.79      0.73        14\n",
      "\n",
      "    accuracy                           0.81        42\n",
      "   macro avg       0.79      0.80      0.79        42\n",
      "weighted avg       0.82      0.81      0.81        42\n",
      "\n",
      "0.8095238095238095\n"
     ]
    },
    {
     "data": {
      "image/png": "[encoded data removed]",
      "text/plain": [
       "<Figure size 720x720 with 2 Axes>"
      ]
     },
     "metadata": {
      "needs_background": "light"
     },
     "output_type": "display_data"
    }
   ],
   "source": [
    "from sklearn.metrics import confusion_matrix, f1_score, accuracy_score, classification_report\n",
    "cm = confusion_matrix(y_test,y_pred_conv)\n",
    "plt.figure(figsize=(10,10))\n",
    "sns.heatmap(cm,annot=True,cmap=\"YlGnBu\")\n",
    "plt.xlabel('Predicted')\n",
    "plt.ylabel('Truth')\n",
    "\n",
    "print(classification_report(y_test,y_pred_conv))\n",
    "print(accuracy_score(y_test,y_pred_conv))"
   ]
  }
 ],
 "metadata": {
  "kernelspec": {
   "display_name": "Python 3",
   "language": "python",
   "name": "python3"
  },
  "language_info": {
   "codemirror_mode": {
    "name": "ipython",
    "version": 3
   },
   "file_extension": ".py",
   "mimetype": "text/x-python",
   "name": "python",
   "nbconvert_exporter": "python",
   "pygments_lexer": "ipython3",
   "version": "3.8.3"
  }
 },
 "nbformat": 4,
 "nbformat_minor": 4
}
